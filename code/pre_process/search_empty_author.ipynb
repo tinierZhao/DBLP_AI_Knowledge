{
 "cells": [
  {
   "cell_type": "markdown",
   "metadata": {},
   "source": [
    "#### Step 1 导入相关包"
   ]
  },
  {
   "cell_type": "code",
   "execution_count": 1,
   "metadata": {},
   "outputs": [],
   "source": [
    "import pandas as pd\n",
    "import numpy as np\n",
    "from collections import defaultdict\n",
    "from tqdm import tqdm\n",
    "import string\n",
    "import pickle\n",
    "import json\n",
    "\n",
    "import os"
   ]
  },
  {
   "cell_type": "markdown",
   "metadata": {},
   "source": [
    "#### Step 2 加载数据"
   ]
  },
  {
   "cell_type": "code",
   "execution_count": 2,
   "metadata": {},
   "outputs": [],
   "source": [
    "with open('../result/filtered_output.json', 'r', encoding='utf-8') as json_file:\n",
    "    json_data = json.load(json_file)"
   ]
  },
  {
   "cell_type": "code",
   "execution_count": 7,
   "metadata": {},
   "outputs": [
    {
     "data": {
      "text/plain": [
       "{'title': 'A system for computer assisted planning (Planning ADES)',\n",
       " 'publication_year': 1976,\n",
       " 'authorships': [{'author_name': 'Allan Cytryn',\n",
       "   'author_id': 'A5029509124',\n",
       "   'institution_name': '',\n",
       "   'institution_type': '',\n",
       "   'institution_country': ''},\n",
       "  {'author_name': 'William H. Parsons',\n",
       "   'author_id': 'A5086362194',\n",
       "   'institution_name': '',\n",
       "   'institution_type': '',\n",
       "   'institution_country': ''}],\n",
       " 'concepts': ['Computer science',\n",
       "  'Engineering drawing',\n",
       "  'Software engineering',\n",
       "  'Systems engineering',\n",
       "  'Engineering',\n",
       "  'Operating system']}"
      ]
     },
     "execution_count": 7,
     "metadata": {},
     "output_type": "execute_result"
    }
   ],
   "source": [
    "json_data[100]"
   ]
  },
  {
   "cell_type": "markdown",
   "metadata": {},
   "source": [
    "#### Step 3 处理查找不全作者的逻辑"
   ]
  },
  {
   "cell_type": "code",
   "execution_count": 8,
   "metadata": {},
   "outputs": [],
   "source": [
    "def find_incomplete_authors(json_data):\n",
    "    incomplete_author_ids = []\n",
    "    for item in tqdm(json_data):\n",
    "        authorships = item.get('authorships', [])\n",
    "        for authorship in authorships:\n",
    "            if authorship.get('institution_name') == '' or authorship.get('institution_type') == '':\n",
    "                incomplete_author_ids.append(authorship.get('author_id'))\n",
    "    return incomplete_author_ids"
   ]
  },
  {
   "cell_type": "code",
   "execution_count": 9,
   "metadata": {},
   "outputs": [
    {
     "name": "stderr",
     "output_type": "stream",
     "text": [
      "100%|██████████| 3581483/3581483 [00:02<00:00, 1790591.87it/s]\n"
     ]
    }
   ],
   "source": [
    "# 调用函数找出不完整的作者 id\n",
    "incomplete_author_ids = find_incomplete_authors(json_data)"
   ]
  },
  {
   "cell_type": "code",
   "execution_count": 13,
   "metadata": {},
   "outputs": [],
   "source": [
    "incomplete_author_ids_lists = list(set(incomplete_author_ids))"
   ]
  },
  {
   "cell_type": "code",
   "execution_count": 16,
   "metadata": {},
   "outputs": [],
   "source": [
    "with open(f'../result/incomplete_author_ids.pkl', 'wb') as f:\n",
    "    pickle.dump(incomplete_author_ids_lists, f)"
   ]
  },
  {
   "cell_type": "code",
   "execution_count": null,
   "metadata": {},
   "outputs": [],
   "source": []
  }
 ],
 "metadata": {
  "kernelspec": {
   "display_name": "pytorch",
   "language": "python",
   "name": "python3"
  },
  "language_info": {
   "codemirror_mode": {
    "name": "ipython",
    "version": 3
   },
   "file_extension": ".py",
   "mimetype": "text/x-python",
   "name": "python",
   "nbconvert_exporter": "python",
   "pygments_lexer": "ipython3",
   "version": "3.10.16"
  },
  "orig_nbformat": 4
 },
 "nbformat": 4,
 "nbformat_minor": 2
}
